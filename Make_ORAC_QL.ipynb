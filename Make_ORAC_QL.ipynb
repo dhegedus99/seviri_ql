{
 "cells": [
  {
   "cell_type": "code",
   "execution_count": 15,
   "id": "f96bd066",
   "metadata": {},
   "outputs": [
    {
     "name": "stdout",
     "output_type": "stream",
     "text": [
      "The autoreload extension is already loaded. To reload it, use:\n",
      "  %reload_ext autoreload\n"
     ]
    }
   ],
   "source": [
    "%load_ext autoreload\n",
    "%autoreload 2\n",
    "\n",
    "import seviri_additional_cloud_tests as extra_tests\n",
    "from datetime import datetime, timedelta\n",
    "import matplotlib.pyplot as plt\n",
    "import plotting as sev_plot\n",
    "from netCDF4 import Dataset\n",
    "from PIL import Image\n",
    "from glob import glob\n",
    "import numpy as np\n",
    "import warnings\n",
    "import pathlib\n",
    "import logging\n",
    "import os\n",
    "\n",
    "warnings.filterwarnings('ignore')\n",
    "\n",
    "logfile = './NRT_QL.log'\n",
    "\n",
    "logging.basicConfig(filename=logfile, level=logging.DEBUG)"
   ]
  },
  {
   "cell_type": "code",
   "execution_count": 9,
   "id": "8229e4aa",
   "metadata": {},
   "outputs": [],
   "source": [
    "# Temp variables for testing\n",
    "\n",
    "# Directory containing the ORAC pri + sec files\n",
    "indir = './'\n",
    "# Top level directory for the output files\n",
    "outdir_top = './TEST/'\n",
    "\n",
    "# Directory containing coastline shapefiles\n",
    "coast_dir = 'C:/Users/EUMETCAST#/Documents/coast/'\n",
    "\n",
    "# Timeslot to search for, YYYYMMDDHHMM\n",
    "dtstr = '202109101100'\n",
    "dater = datetime.strptime(dtstr, \"%Y%m%d%H%M\")\n",
    "\n",
    "# Whether to overwrite files\n",
    "clobber = False\n",
    "\n",
    "# Aerosol quality control flag\n",
    "aerosol_qc = None\n",
    "\n",
    "# Distance to cloud for flagging\n",
    "dist2cloud = 10\n",
    "\n",
    "# Aerosol land sea mask flag\n",
    "aerosol_landsea = False\n",
    "\n",
    "# Are we doing cesium or quicklooks\n",
    "cesium = True\n",
    "\n",
    "# Should we flip data? ORAC outputs transposed in both directions\n",
    "flip_data = True\n",
    "\n",
    "# Shall we make subdirectories based on date\n",
    "auto_out = True\n",
    "\n",
    "# Set image output size in pixels\n",
    "out_img_pix = (1700, 597)\n",
    "\n",
    "# Set lat/lon limits of output image\n",
    "out_img_ll = (-71.8154, 29.1062, 30.1846, 64.7465)\n",
    "\n",
    "# List of variables to be read from primary file\n",
    "pvar = ['lat', 'lon', 'cldmask', 'illum', 'solar_zenith_view_no1',\n",
    "      'cth', 'cot', 'aot550', 'aer', 'qcflag', 'lsflag', 'niter', 'costjm']\n",
    "\n",
    "# List of variables to be read from secondary file\n",
    "svar = ['reflectance_in_channel_no_1', 'reflectance_in_channel_no_2',\n",
    "      'reflectance_in_channel_no_3',\n",
    "      'brightness_temperature_in_channel_no_9']"
   ]
  },
  {
   "cell_type": "code",
   "execution_count": 3,
   "id": "87401967",
   "metadata": {},
   "outputs": [],
   "source": [
    "def load_orac(in_file, var_list, flipper):\n",
    "    \"\"\"Read ORAC variables from file into dict.\n",
    "    Inputs:\n",
    "     - in_file: String, filename to read.\n",
    "     - var_list: List, set of variables to read.\n",
    "    Outputs:\n",
    "     - var_dict: Dictionary of variable, data, pairs.\n",
    "     \"\"\"\n",
    "    try:\n",
    "        fid = Dataset(in_file, 'r')\n",
    "    except FileNotFoundError:\n",
    "        print(f\"Error, can't open input file! {in_file}\")\n",
    "        raise\n",
    "    var_dict = {}\n",
    "    for variable in var_list:\n",
    "        try:\n",
    "            data = np.array(fid[variable])\n",
    "            if flipper:\n",
    "                data = np.fliplr(np.flipud(data))\n",
    "            var_dict[variable] = data\n",
    "            logging.info(f' - Read {variable}')\n",
    "        except IndexError:\n",
    "            logging.info(f' - Variable {variable} not found in file {in_file}')\n",
    "    fid.close()\n",
    "    return var_dict\n",
    "\n",
    "def set_output_dir(outdir_top, dater):\n",
    "    \"\"\"Define and create output directory based on the date.\n",
    "    Inputs:\n",
    "     - outdir_top: String, top-level output directory.\n",
    "     - dater: Datetime, current processing timeslot.\n",
    "    Returns:\n",
    "     - outdir: String, correct directory for saving output.\"\"\"\n",
    "    outdir = f'{outdir_top}/{dater.strftime(\"%Y\")}/{dater.strftime(\"%m\")}/{dater.strftime(\"%d\")}/'\n",
    "    pathlib.Path(outdir).mkdir(parents=True, exist_ok=True)\n",
    "    return outdir\n",
    "\n",
    "def set_output_files(odir, pri_fname, cesium):\n",
    "    \"\"\"Define and create output directory based on the date.\n",
    "    Inputs:\n",
    "     - odir: String, output directory.\n",
    "     - pri_fname: String, the filename of the ORAC primary file.\n",
    "     - cesium: Bool, if true then set cesium filenames otherwise set QL.\n",
    "    Returns:\n",
    "     - out_fnames: Dictionary, output filenames for saving.\n",
    "     - need_proc: Boolean, do we need to do processing. False if all files already present.\"\"\"\n",
    "    var_out_list = ['CTH', 'COD', 'FC', 'AOD']\n",
    "    # Find base filename\n",
    "    base_fname = os.path.basename(pri_fname)\n",
    "    pos = base_fname.find('.primary.nc')\n",
    "    base_fname = base_fname[:pos]\n",
    "    out_fnames = {}\n",
    "    for var in var_out_list:\n",
    "        out_fnames[var] = f'{odir}/{base_fname}_{var}'\n",
    "    return out_fnames\n",
    "\n",
    "def test_files(fdict):\n",
    "    \"\"\"Determine if all required output files are present.\n",
    "    Inputs:\n",
    "     - flist: Dictinary of filenames to test.\n",
    "    Returns:\n",
    "     - Boolean, true of all files are present.\"\"\"\n",
    "    if all([os.path.isfile(fdict[k]) for k in fdict.keys()]):\n",
    "        return True\n",
    "    else:\n",
    "        return False\n",
    "    \n",
    "def apply_basic_qc(pri_data):\n",
    "    \"\"\"Apply basic QC to data and filter out bad pixels.\n",
    "    Inputs\n",
    "        -    pri_data: Dict, data from ORAC primary file.\n",
    "    Returns\n",
    "        -    pri_data: Dict, same data but with QC applied.\n",
    "        \"\"\"\n",
    "    return None"
   ]
  },
  {
   "cell_type": "code",
   "execution_count": 4,
   "id": "4bce8200",
   "metadata": {
    "scrolled": true
   },
   "outputs": [
    {
     "name": "stdout",
     "output_type": "stream",
     "text": [
      "0.0 0.34736106 1.550486\n",
      "0.0 88.36794 255.0\n",
      "0 88.3679175582836 255\n"
     ]
    },
    {
     "name": "stderr",
     "output_type": "stream",
     "text": [
      "D:\\miniconda3\\lib\\site-packages\\pyresample\\image.py:60: FutureWarning: Usage of ImageContainer is deprecated, please use NumpyResamplerBilinear class instead\n",
      "  warnings.warn(\n",
      "D:\\miniconda3\\lib\\site-packages\\pyresample\\image.py:60: FutureWarning: Usage of ImageContainer is deprecated, please use NumpyResamplerBilinear class instead\n",
      "  warnings.warn(\n"
     ]
    }
   ],
   "source": [
    "def main():\n",
    "    logging.info(f'Beginning processing for {dater.strftime(\"%Y-%m-%d %H:%M\")}')\n",
    "    \n",
    "    # Locate primary and secondary files\n",
    "    inf_pri = glob(f'{indir}/*{dtstr}*.primary.nc')\n",
    "    inf_sec = glob(f'{indir}/*{dtstr}*.secondary.nc')\n",
    "    \n",
    "    # Check that files exist, raise error if not\n",
    "    if len(inf_pri) < 1:\n",
    "        raise OSError(f\"Error: Cannot find primary file for {dtstr}!\")\n",
    "    else:\n",
    "        inf_pri = inf_pri[0]\n",
    "    if len(inf_sec) < 1:\n",
    "        raise OSError(f\"Error: Cannot find secondary file for {dtstr}!\")\n",
    "    else:\n",
    "        inf_sec = inf_sec[0]\n",
    "    \n",
    "    logging.info(f'SEVIRI_MK_NRT_QUICKLOOKS: directories')\n",
    "    logging.info(f' - Input: {indir}')\n",
    "    logging.info(f' - Output: {outdir_top}')\n",
    "    \n",
    "    # Set up directories\n",
    "    logging.info(f'Setting output files and directories')\n",
    "    outdir = set_output_dir(outdir_top, dater)\n",
    "    # Set output filenames\n",
    "    outfiles_ql = set_output_files(outdir, inf_pri, False)\n",
    "    outfiles_cs = set_output_files(outdir, inf_pri, True)\n",
    "    \n",
    "    # Are files present? If so, no need to process\n",
    "    all_done = test_files({**outfiles_ql, **outfiles_cs})\n",
    "    if all_done:\n",
    "        logging.info(f'All files are present. Halting processing.')\n",
    "        return\n",
    "    \n",
    "    # Load the primary and secondary variables from ORAC output\n",
    "    logging.info(f'Reading primary file: {inf_pri}')\n",
    "    pri_data = load_orac(inf_pri, pvar, flip_data)\n",
    "    logging.info(f'Reading secondary file: {inf_sec}')\n",
    "    sec_data = load_orac(inf_sec, svar, flip_data)\n",
    "    \n",
    "    if aerosol_qc is not None:\n",
    "        logging.info(f'Applying additional aerosol quality filtering.')\n",
    "        extra_tests.seviri_additional_cloud_tests(pri_data, aerosol_qc, dist2cloud)\n",
    "        \n",
    "    odata = sev_plot.retr_fc(pri_data, sec_data)\n",
    "    fc_res = sev_plot.resample_data(odata, pri_data, out_img_pix, out_img_ll)\n",
    "        \n",
    "    return pri_data, sec_data, odata\n",
    "\n",
    "pri_data, sec_data, fc_data = main()"
   ]
  },
  {
   "cell_type": "code",
   "execution_count": 6,
   "id": "30a1003b",
   "metadata": {},
   "outputs": [
    {
     "name": "stderr",
     "output_type": "stream",
     "text": [
      "D:\\miniconda3\\lib\\site-packages\\pyresample\\image.py:60: FutureWarning: Usage of ImageContainer is deprecated, please use NumpyResamplerBilinear class instead\n",
      "  warnings.warn(\n"
     ]
    }
   ],
   "source": [
    "res_data, res_area = sev_plot.resample_data(fc_data, pri_data, out_img_pix, out_img_ll)"
   ]
  },
  {
   "cell_type": "code",
   "execution_count": 7,
   "id": "ab425a3e",
   "metadata": {},
   "outputs": [],
   "source": [
    "save_fc = sev_plot.make_alpha(res_data[:,:,::-1])\n",
    "img = Image.fromarray(save_fc)\n",
    "img.save(\"out_res_apl.png\")"
   ]
  },
  {
   "cell_type": "code",
   "execution_count": 14,
   "id": "7de3df8b",
   "metadata": {
    "scrolled": true
   },
   "outputs": [
    {
     "name": "stderr",
     "output_type": "stream",
     "text": [
      "D:\\miniconda3\\lib\\site-packages\\pyproj\\crs\\crs.py:1256: UserWarning: You will likely lose important projection information when converting to a PROJ string from another format. See: https://proj.org/faq.html#what-is-the-best-format-for-describing-coordinate-reference-systems\n",
      "  return self._crs.to_proj4(version=version)\n"
     ]
    }
   ],
   "source": [
    "from PIL import Image\n",
    "from pycoast import ContourWriterAGG\n",
    "area_def = (res_area.proj4_string, res_area.area_extent)\n",
    "cw = ContourWriterAGG(coast_dir)\n",
    "cw.add_coastlines(img, area_def, resolution='l', level=4)\n",
    "cw.add_borders(img, area_def)\n",
    "img.save(\"out_res_border.png\")"
   ]
  },
  {
   "cell_type": "code",
   "execution_count": null,
   "id": "8f076be8",
   "metadata": {},
   "outputs": [],
   "source": []
  }
 ],
 "metadata": {
  "kernelspec": {
   "display_name": "Python 3 (ipykernel)",
   "language": "python",
   "name": "python3"
  },
  "language_info": {
   "codemirror_mode": {
    "name": "ipython",
    "version": 3
   },
   "file_extension": ".py",
   "mimetype": "text/x-python",
   "name": "python",
   "nbconvert_exporter": "python",
   "pygments_lexer": "ipython3",
   "version": "3.8.12"
  }
 },
 "nbformat": 4,
 "nbformat_minor": 5
}
