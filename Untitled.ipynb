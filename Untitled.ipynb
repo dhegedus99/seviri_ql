{
 "cells": [
  {
   "cell_type": "code",
   "execution_count": 12,
   "id": "771ee3c3",
   "metadata": {},
   "outputs": [],
   "source": [
    "from netCDF4 import Dataset\n",
    "from pyresample import image, geometry\n",
    "import numpy as np"
   ]
  },
  {
   "cell_type": "code",
   "execution_count": 13,
   "id": "8d18427f",
   "metadata": {},
   "outputs": [],
   "source": [
    "def read_orac_file(inf, pvar):\n",
    "    \"\"\"Read variables from primary/secondary file.\"\"\"\n",
    "    var_dict = {}\n",
    "    fid = Dataset(inf, 'r')\n",
    "    for variable in pvar:\n",
    "        var_dict[variable] = np.array(fid[variable])\n",
    "    fid.close()\n",
    "    return var_dict"
   ]
  },
  {
   "cell_type": "code",
   "execution_count": 14,
   "id": "f29c8f49",
   "metadata": {},
   "outputs": [],
   "source": [
    "# Main directories\n",
    "indir = './'\n",
    "odir = './'\n",
    "\n",
    "# Input filenames\n",
    "pri_f = 'NCEO-L2-CLOUD-AEROSOL-SEVIRI_ORAC_MSG4_202109101100_R9999.primary.nc'\n",
    "sec_f = pri_f.replace('primary', 'secondary')\n",
    "\n",
    "# Variables to read from primary file\n",
    "pvar = ['lat', 'lon', 'cldmask', 'illum', 'solar_zenith_view_no1', \n",
    "        'cth', 'cot', 'aot550', 'aer', 'qcflag', 'lsflag']\n",
    "\n",
    "# Variables to read from secondary file\n",
    "svar = ['reflectance_in_channel_no_1', 'reflectance_in_channel_no_2',\n",
    "        'reflectance_in_channel_no_3', 'brightness_temperature_in_channel_no_9'] "
   ]
  },
  {
   "cell_type": "code",
   "execution_count": 15,
   "id": "e32a24c0",
   "metadata": {},
   "outputs": [],
   "source": [
    "# Read data\n",
    "pri_dict = read_orac_file(pri_f, pvar)\n",
    "sec_dict = read_orac_file(sec_f, svar)"
   ]
  },
  {
   "cell_type": "code",
   "execution_count": null,
   "id": "ffa063c8",
   "metadata": {},
   "outputs": [],
   "source": []
  }
 ],
 "metadata": {
  "kernelspec": {
   "display_name": "Python 3 (ipykernel)",
   "language": "python",
   "name": "python3"
  },
  "language_info": {
   "codemirror_mode": {
    "name": "ipython",
    "version": 3
   },
   "file_extension": ".py",
   "mimetype": "text/x-python",
   "name": "python",
   "nbconvert_exporter": "python",
   "pygments_lexer": "ipython3",
   "version": "3.9.7"
  }
 },
 "nbformat": 4,
 "nbformat_minor": 5
}
